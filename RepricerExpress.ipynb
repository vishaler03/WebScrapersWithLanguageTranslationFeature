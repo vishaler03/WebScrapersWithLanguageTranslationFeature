{
 "cells": [
  {
   "cell_type": "code",
   "execution_count": 1,
   "metadata": {},
   "outputs": [],
   "source": [
    "from selenium import webdriver as wd\n",
    "from selenium.webdriver.common.keys import Keys\n",
    "from selenium.webdriver.common.action_chains import ActionChains\n",
    "from time import sleep\n",
    "import os\n",
    "import random"
   ]
  },
  {
   "cell_type": "code",
   "execution_count": 2,
   "metadata": {},
   "outputs": [],
   "source": [
    "driver=None\n",
    "\n",
    "pagenumber=1\n",
    "\n",
    "URL=None\n",
    "\n",
    "def initiate():\n",
    "    \n",
    "    global driver\n",
    "    \n",
    "    driver=wd.Chrome(executable_path='C:/chromedriver.exe')\n",
    "    \n",
    "    driver.maximize_window()\n",
    "    \n",
    "    driver.get('https://www.repricerexpress.com/blog/')\n",
    "    \n",
    "    sleep(4)"
   ]
  },
  {
   "cell_type": "code",
   "execution_count": 3,
   "metadata": {},
   "outputs": [],
   "source": [
    "def change_language():\n",
    "    \n",
    "    global driver\n",
    "    \n",
    "    arrow=driver.find_element_by_xpath('/html/body/div[2]/div[2]/div[1]/div[2]/div[1]/div[1]/div[1]/div[1]/div[4]/div[3]')\n",
    "\n",
    "    arrow.click()\n",
    "\n",
    "    swedish=driver.find_element_by_xpath('/html/body/div[2]/div[2]/div[4]/div/div[2]/div[2]/div[2]/div/div[2]/div[93]')\n",
    "\n",
    "    swedish.click()\n",
    "        "
   ]
  },
  {
   "cell_type": "code",
   "execution_count": 4,
   "metadata": {},
   "outputs": [],
   "source": [
    "def extract_blog():\n",
    "    \n",
    "    global driver\n",
    "    \n",
    "    sleep(3)\n",
    "    \n",
    "    driver.find_element_by_tag_name('body').send_keys(Keys.ESCAPE).perform()\n",
    "    \n",
    "    text=driver.find_element_by_xpath('//div[@class=\"elementor-element elementor-element-820190e elementor-widget elementor-widget-theme-post-content\"]').text\n",
    "    \n",
    "    return text"
   ]
  },
  {
   "cell_type": "code",
   "execution_count": 5,
   "metadata": {},
   "outputs": [],
   "source": [
    "def google_translate():\n",
    "    \n",
    "    global driver\n",
    "    \n",
    "    driver.execute_script('window.open(\"\");')\n",
    "    \n",
    "    handles=driver.window_handles\n",
    "    \n",
    "    driver.switch_to.window(handles[-1])\n",
    "    sleep(random.randint(50,65))\n",
    "    \n",
    "    driver.get('https://translate.google.co.in/')\n",
    "    sleep(2)\n",
    "    \n",
    "    doc=driver.find_element_by_xpath('/html/body/div[2]/div[2]/div[1]/div[1]/div/div[2]')\n",
    "    doc.click()\n",
    "    sleep(1)\n",
    "    \n",
    "    inp=driver.find_element_by_xpath('//*[@id=\"tlid-file-input\"]')\n",
    "    inp.send_keys(os.path.abspath('SellerEngine/Page.txt'))\n",
    "    \n",
    "    sleep(2)\n",
    "    \n",
    "    change_language()\n",
    "    \n",
    "    translate=driver.find_element_by_xpath('/html/body/div[2]/div[2]/div[1]/div[2]/div[1]/div[2]/div/form/div[2]/div[2]/input')\n",
    "    translate.click()\n",
    "    \n",
    "    sleep(3)\n",
    "    \n",
    "    translated_text=driver.find_element_by_tag_name('body').text\n",
    "        \n",
    "    driver.close()\n",
    "    \n",
    "    driver.switch_to.window(handles[0])\n",
    "    \n",
    "    delete_file()\n",
    "    \n",
    "    return translated_text\n",
    "    "
   ]
  },
  {
   "cell_type": "code",
   "execution_count": 6,
   "metadata": {},
   "outputs": [],
   "source": [
    "def write_to_file(text):\n",
    "    \n",
    "    global URL\n",
    "    \n",
    "    global pagenumber\n",
    "    \n",
    "    file_name='SellerEngine/Page' + str(pagenumber)+'.txt'\n",
    "    \n",
    "    pagenumber+=1\n",
    "    \n",
    "    with open(file_name,'a') as file:\n",
    "        \n",
    "        file.write('URL:{}'.format(URL))\n",
    "        \n",
    "        file.write('\\n\\n')\n",
    "        \n",
    "        for i in text:\n",
    "            \n",
    "            try:\n",
    "                \n",
    "                file.write(i)\n",
    "            \n",
    "            except:\n",
    "                \n",
    "                pass\n",
    "        \n",
    "        file.write('\\n\\n\\n\\n')"
   ]
  },
  {
   "cell_type": "code",
   "execution_count": 7,
   "metadata": {},
   "outputs": [],
   "source": [
    "def create_temp_file(text):\n",
    "    \n",
    "    with open('SellerEngine/Page.txt','w') as file:\n",
    "        \n",
    "        for i in text:\n",
    "        \n",
    "            try:\n",
    "                \n",
    "                file.write(i)\n",
    "            \n",
    "            except:\n",
    "                \n",
    "                pass\n",
    "    "
   ]
  },
  {
   "cell_type": "code",
   "execution_count": 8,
   "metadata": {},
   "outputs": [],
   "source": [
    "def delete_file():\n",
    "    \n",
    "    try:\n",
    "        \n",
    "        os.remove('SellerEngine/Page.txt')\n",
    "        \n",
    "        print('File deleted successfully !')\n",
    "        \n",
    "    except:\n",
    "        \n",
    "        pass"
   ]
  },
  {
   "cell_type": "code",
   "execution_count": 9,
   "metadata": {},
   "outputs": [],
   "source": [
    "def next_blog():\n",
    "    \n",
    "    global driver\n",
    "    \n",
    "    global URL\n",
    "    \n",
    "    tags=driver.find_element_by_xpath('//*[@id=\"posts-container\"]/div[1]').find_elements_by_tag_name('article')\n",
    "    \n",
    "    for tag in tags:\n",
    "        \n",
    "        link=tag.find_element_by_tag_name('a').get_attribute('href')\n",
    "        \n",
    "        driver.execute_script('window.open(\"\");')\n",
    "        \n",
    "        handles=driver.window_handles\n",
    "        \n",
    "        driver.switch_to.window(handles[-1])\n",
    "        \n",
    "        driver.get(link)\n",
    "        \n",
    "        URL=link\n",
    "        \n",
    "        text=extract_blog()\n",
    "        \n",
    "        create_temp_file(text)\n",
    "        \n",
    "        driver.close()\n",
    "        \n",
    "        driver.switch_to.window(handles[0])\n",
    "        \n",
    "        translated=google_translate()\n",
    "        \n",
    "        write_to_file(translated)\n",
    "        \n",
    "        delete_file()\n",
    "            "
   ]
  },
  {
   "cell_type": "code",
   "execution_count": 10,
   "metadata": {},
   "outputs": [],
   "source": [
    "def next_page():\n",
    "    \n",
    "    global driver\n",
    "    \n",
    "    try:\n",
    "        \n",
    "        driver.find_element_by_tag_name('body').send_keys(Keys.END)\n",
    "        sleep(3)\n",
    "        \n",
    "        for i in range(3):\n",
    "            \n",
    "            driver.find_element_by_tag_name('body').send_keys(Keys.ARROW_UP)\n",
    "        \n",
    "        next_=driver.find_element_by_partial_link_text('Next')\n",
    "        \n",
    "        if True:\n",
    "        \n",
    "            next_.click()\n",
    "        \n",
    "            sleep(2)\n",
    "            \n",
    "            return True\n",
    "        \n",
    "        else:\n",
    "            \n",
    "            return False\n",
    "        \n",
    "    except:\n",
    "        \n",
    "        return False\n",
    "        \n",
    "        pass\n",
    "    "
   ]
  },
  {
   "cell_type": "code",
   "execution_count": 11,
   "metadata": {},
   "outputs": [],
   "source": [
    "def executor():\n",
    "    \n",
    "    create_directory()\n",
    "    \n",
    "    initiate()\n",
    "    \n",
    "    next_blog()\n",
    "    \n",
    "    while next_page():\n",
    "        \n",
    "        next_blog()\n",
    "        "
   ]
  },
  {
   "cell_type": "code",
   "execution_count": 12,
   "metadata": {},
   "outputs": [],
   "source": [
    "def create_directory():\n",
    "    \n",
    "    try:\n",
    "        \n",
    "        os.mkdir('SellerEngine')\n",
    "        \n",
    "    except:\n",
    "        \n",
    "        pass"
   ]
  },
  {
   "cell_type": "code",
   "execution_count": 13,
   "metadata": {},
   "outputs": [],
   "source": [
    "initiate()"
   ]
  },
  {
   "cell_type": "code",
   "execution_count": 14,
   "metadata": {},
   "outputs": [
    {
     "data": {
      "text/plain": [
       "24"
      ]
     },
     "execution_count": 14,
     "metadata": {},
     "output_type": "execute_result"
    }
   ],
   "source": [
    "# executor()\n",
    "tags=driver.find_element_by_xpath('//*[@id=\"posts-container\"]/div[1]').find_elements_by_tag_name('article')\n",
    "len(tags)"
   ]
  },
  {
   "cell_type": "code",
   "execution_count": 15,
   "metadata": {},
   "outputs": [],
   "source": [
    "driver.get(tags[0].find_element_by_tag_name('a').get_attribute('href'))"
   ]
  },
  {
   "cell_type": "code",
   "execution_count": 18,
   "metadata": {},
   "outputs": [],
   "source": [
    "text=driver.find_element_by_xpath('//div[@class=\"post-content\"]').text"
   ]
  },
  {
   "cell_type": "code",
   "execution_count": 28,
   "metadata": {},
   "outputs": [
    {
     "data": {
      "text/plain": [
       "''"
      ]
     },
     "execution_count": 28,
     "metadata": {},
     "output_type": "execute_result"
    }
   ],
   "source": [
    "text"
   ]
  },
  {
   "cell_type": "code",
   "execution_count": 34,
   "metadata": {},
   "outputs": [],
   "source": [
    "driver.find_element_by_xpath('//div[@class=\"post-content\"]').get_attribute('value')"
   ]
  },
  {
   "cell_type": "code",
   "execution_count": 35,
   "metadata": {},
   "outputs": [],
   "source": [
    "p=driver.find_elements_by_tag_name('p')"
   ]
  },
  {
   "cell_type": "code",
   "execution_count": 36,
   "metadata": {},
   "outputs": [
    {
     "data": {
      "text/plain": [
       "22"
      ]
     },
     "execution_count": 36,
     "metadata": {},
     "output_type": "execute_result"
    }
   ],
   "source": [
    "len(p)"
   ]
  },
  {
   "cell_type": "code",
   "execution_count": 37,
   "metadata": {},
   "outputs": [
    {
     "name": "stdout",
     "output_type": "stream",
     "text": [
      "There’s no traditional definition of a fiscal year because every business will create its own, so we’ll keep things in a more abstract sense so you can use tips for any quarter of the year. And whether you already have a plan for it or are gathering data to launch a business for the future, RepricerExpress has some good techniques you can use for your Amazon ad strategy when looking to maximise your ROI.\n",
      "Put bluntly, it’s almost impossible to succeed in selling — especially selling online — if you don’t have any sort of ad campaign. With brick-and-mortar stores or service-based companies, you might be able to get by on word-of-mouth. But that just won’t cut it online and with retail shops. Shoppers will not go out of their way to find you and your products, so you’ll have to bring it to them.\n",
      "There are some ad campaigns you can tinker with, like using A/B testing to figure out what works best in email deals. But when it comes to a Q4-specific strategy, there’s no time for testing. Because it’s a fixed period of time, you’ve got to have a plan that allows you to hit the ground running with maximum success.\n",
      "And here are some things you should be looking at.\n",
      "\n",
      "\n",
      "\n",
      "\n",
      "\n",
      "\n",
      "\n",
      "\n",
      "\n",
      "\n",
      "\n",
      "\n",
      "\n",
      "\n",
      "\n",
      "\n",
      "\n",
      "\n"
     ]
    }
   ],
   "source": [
    "for x in p:\n",
    "    print(x.text)"
   ]
  },
  {
   "cell_type": "code",
   "execution_count": null,
   "metadata": {},
   "outputs": [],
   "source": []
  }
 ],
 "metadata": {
  "kernelspec": {
   "display_name": "Python 3",
   "language": "python",
   "name": "python3"
  },
  "language_info": {
   "codemirror_mode": {
    "name": "ipython",
    "version": 3
   },
   "file_extension": ".py",
   "mimetype": "text/x-python",
   "name": "python",
   "nbconvert_exporter": "python",
   "pygments_lexer": "ipython3",
   "version": "3.6.5"
  }
 },
 "nbformat": 4,
 "nbformat_minor": 2
}
